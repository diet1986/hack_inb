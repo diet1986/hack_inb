{
 "cells": [
  {
   "cell_type": "code",
   "execution_count": 86,
   "metadata": {},
   "outputs": [],
   "source": [
    "from flask import Flask, jsonify,request,Blueprint\n",
    "import openai\n",
    "import langchain\n",
    "import pinecone\n",
    "import pandas as pd\n",
    "import numpy as np\n",
    "import tiktoken\n",
    "import os\n",
    "from langchain.document_loaders import PyPDFDirectoryLoader\n",
    "from langchain.text_splitter import RecursiveCharacterTextSplitter\n",
    "from langchain.embeddings.openai import OpenAIEmbeddings\n",
    "from langchain.llms import OpenAI\n",
    "from langchain.vectorstores import Pinecone\n",
    "from pinecone import Pinecone, ServerlessSpec\n",
    "from langchain_pinecone import PineconeVectorStore\n",
    "from langchain.chains import LLMChain\n",
    "from langchain_openai import OpenAI\n",
    "from langchain.chains.question_answering import load_qa_chain\n",
    "from langchain import OpenAI\n",
    "from langchain_community.chat_models import ChatOpenAI"
   ]
  },
  {
   "cell_type": "code",
   "execution_count": 87,
   "metadata": {},
   "outputs": [],
   "source": [
    "PINECONE_API_KEY=''\n",
    "docsearch = None\n",
    "os.environ['PINECONE_API_KEY'] = PINECONE_API_KEY"
   ]
  },
  {
   "cell_type": "code",
   "execution_count": 88,
   "metadata": {},
   "outputs": [],
   "source": [
    "def read_doc(directory):\n",
    "    file_loader=PyPDFDirectoryLoader(directory)\n",
    "    documents=file_loader.load()\n",
    "    return documents"
   ]
  },
  {
   "cell_type": "code",
   "execution_count": 89,
   "metadata": {},
   "outputs": [],
   "source": [
    "## Divide the docs into chunks\n",
    "### https://api.python.langchain.com/en/latest/text_splitter/langchain.text_splitter.RecursiveCharacterTextSplitter.html#\n",
    "def chunk_data(docs,chunk_size=800,chunk_overlap=50):\n",
    "    text_splitter=RecursiveCharacterTextSplitter(chunk_size=chunk_size,chunk_overlap=chunk_overlap)\n",
    "    docs=text_splitter.split_documents(docs)\n",
    "    return docs"
   ]
  },
  {
   "cell_type": "code",
   "execution_count": 90,
   "metadata": {},
   "outputs": [],
   "source": [
    "def get_openai_embeedings():\n",
    "    embeddings = OpenAIEmbeddings(openai_api_key='')\n",
    "    return embeddings"
   ]
  },
  {
   "cell_type": "code",
   "execution_count": 91,
   "metadata": {},
   "outputs": [],
   "source": [
    "def get_pinecone(index_name='hackindex'):\n",
    "    pc = Pinecone(api_key=\"\")\n",
    "    index = pc.Index(index_name)\n",
    "    return pc"
   ]
  },
  {
   "cell_type": "code",
   "execution_count": 92,
   "metadata": {},
   "outputs": [],
   "source": [
    "def get_chunked_docs(path='documents/'):\n",
    "    documents_from_folder=read_doc(path)\n",
    "    documents_chunked=chunk_data(docs=documents_from_folder)\n",
    "    return documents_chunked\n",
    "    #len(documents_chunked)\n",
    "    #documents_chunked\n",
    "    "
   ]
  },
  {
   "cell_type": "code",
   "execution_count": 93,
   "metadata": {},
   "outputs": [],
   "source": [
    "def embed_document(path='documents/'):\n",
    "    chunked = get_chunked_docs(path=path)\n",
    "    embeddings=get_openai_embeedings()\n",
    "    #pnecone=get_pinecone()\n",
    "    docsearch = PineconeVectorStore.from_documents(chunked, embeddings, index_name='hackindex')\n",
    "    return docsearch\n"
   ]
  },
  {
   "cell_type": "code",
   "execution_count": 94,
   "metadata": {},
   "outputs": [],
   "source": [
    "app = Flask(__name__)\n",
    "# root path not working \n",
    "#app.config[\"APPLICATION_ROOT\"] = \"/hack/esg\"\n",
    "PREFIX='/hack/esg'"
   ]
  },
  {
   "cell_type": "code",
   "execution_count": 95,
   "metadata": {},
   "outputs": [],
   "source": [
    "@app.route(PREFIX+'/hello', methods=['GET'])\n",
    "def get_date():\n",
    "    return jsonify({'message':'hello'})"
   ]
  },
  {
   "cell_type": "code",
   "execution_count": 96,
   "metadata": {},
   "outputs": [],
   "source": [
    "@app.route(PREFIX+'/embed', methods=['POST'])\n",
    "def embed():\n",
    "    payload = request.get_json()\n",
    "    embed_document(payload['path'])\n",
    "    return jsonify({'message':'embedded' , 'status' :'created' , 'code':'201'})"
   ]
  },
  {
   "cell_type": "code",
   "execution_count": 97,
   "metadata": {},
   "outputs": [],
   "source": [
    "def get_llm():\n",
    "    llm=ChatOpenAI(model_name=\"gpt-3.5-turbo\",temperature=0.5,openai_api_key=\"\")\n",
    "    chain=load_qa_chain(llm,chain_type=\"stuff\")\n",
    "    return chain"
   ]
  },
  {
   "cell_type": "code",
   "execution_count": 98,
   "metadata": {},
   "outputs": [],
   "source": [
    "def retrieve_query(query,k=2):\n",
    "    #if docsearch:\n",
    "        #matching_results=docsearch.similarity_search(query,k=k)\n",
    "    docsearch = embed_document()\n",
    "    matching_results=docsearch.similarity_search(query,k=k)\n",
    "    return matching_results"
   ]
  },
  {
   "cell_type": "code",
   "execution_count": 99,
   "metadata": {},
   "outputs": [],
   "source": [
    "def retrieve_answers(query):\n",
    "    doc_search=retrieve_query(query)\n",
    "    #print(doc_search)\n",
    "    chain = get_llm()\n",
    "    response=chain.run(input_documents=doc_search,question=query)\n",
    "    return response"
   ]
  },
  {
   "cell_type": "code",
   "execution_count": 100,
   "metadata": {},
   "outputs": [],
   "source": [
    "@app.route(PREFIX+'/query', methods=['GET'])\n",
    "def query():\n",
    "    query = request.args.get('query')\n",
    "    if query:\n",
    "        response = retrieve_query(query)\n",
    "        answer =''\n",
    "        for doc in response:\n",
    "            answer = answer + doc.page_content\n",
    "        return jsonify({'message':answer , 'code':'200'})\n",
    "    return jsonify({'answer' : 'no query given' , 'code':'200'})"
   ]
  },
  {
   "cell_type": "code",
   "execution_count": null,
   "metadata": {},
   "outputs": [],
   "source": [
    "app.run()"
   ]
  }
 ],
 "metadata": {
  "kernelspec": {
   "display_name": "Python 3",
   "language": "python",
   "name": "python3"
  },
  "language_info": {
   "codemirror_mode": {
    "name": "ipython",
    "version": 3
   },
   "file_extension": ".py",
   "mimetype": "text/x-python",
   "name": "python",
   "nbconvert_exporter": "python",
   "pygments_lexer": "ipython3",
   "version": "3.10.13"
  }
 },
 "nbformat": 4,
 "nbformat_minor": 2
}
